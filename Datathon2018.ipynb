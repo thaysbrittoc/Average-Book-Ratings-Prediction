{
 "cells": [
  {
   "cell_type": "markdown",
   "metadata": {},
   "source": [
    "#Book Ratings prediction"
   ]
  },
  {
   "cell_type": "markdown",
   "metadata": {},
   "source": [
    "The aim of this project is to predict what readers will rate the books that a certain company will publish in 2018. We have the data from 2017, where we know what readers read and what rating each user provided on $\\textbf{average}$ to all books they read. So, I will use linear regression to predict the average rating for books in 2018, which will be using the books read in 2017 + books that will be read in 2018."
   ]
  },
  {
   "cell_type": "code",
   "execution_count": 12,
   "metadata": {
    "collapsed": true
   },
   "outputs": [],
   "source": [
    "import pandas as pd \n",
    "import numpy as np \n",
    "import matplotlib.pyplot as plt #plots \n",
    "import os \n",
    "%matplotlib inline \n",
    "\n",
    "#folder = '../input/'\n",
    "\n",
    "#os.listdir(folder)\n"
   ]
  },
  {
   "cell_type": "code",
   "execution_count": 13,
   "metadata": {},
   "outputs": [],
   "source": [
    "# reading the data\n",
    "user = pd.read_csv(\"~/Desktop/unsw/Projects/Datathon_2018/Dataset/User Data.csv\")"
   ]
  },
  {
   "cell_type": "code",
   "execution_count": 14,
   "metadata": {},
   "outputs": [
    {
     "data": {
      "text/html": [
       "<div>\n",
       "<style>\n",
       "    .dataframe thead tr:only-child th {\n",
       "        text-align: right;\n",
       "    }\n",
       "\n",
       "    .dataframe thead th {\n",
       "        text-align: left;\n",
       "    }\n",
       "\n",
       "    .dataframe tbody tr th {\n",
       "        vertical-align: top;\n",
       "    }\n",
       "</style>\n",
       "<table border=\"1\" class=\"dataframe\">\n",
       "  <thead>\n",
       "    <tr style=\"text-align: right;\">\n",
       "      <th></th>\n",
       "      <th>User ID</th>\n",
       "      <th>User Difficulty Choice</th>\n",
       "      <th>User Read Books (2017)</th>\n",
       "      <th>User Read Books (2018)</th>\n",
       "      <th>Average Rating (2017)</th>\n",
       "    </tr>\n",
       "  </thead>\n",
       "  <tbody>\n",
       "    <tr>\n",
       "      <th>0</th>\n",
       "      <td>ID790145788</td>\n",
       "      <td>1</td>\n",
       "      <td>6254</td>\n",
       "      <td>7180</td>\n",
       "      <td>3.115447</td>\n",
       "    </tr>\n",
       "    <tr>\n",
       "      <th>1</th>\n",
       "      <td>ID646234447</td>\n",
       "      <td>Not specified</td>\n",
       "      <td>5854, 5676, 7265, 6051</td>\n",
       "      <td>5729, 5279, 6242, 5519, 5251</td>\n",
       "      <td>3.157876</td>\n",
       "    </tr>\n",
       "    <tr>\n",
       "      <th>2</th>\n",
       "      <td>ID86918707</td>\n",
       "      <td>5</td>\n",
       "      <td>5815</td>\n",
       "      <td>6372, 6697</td>\n",
       "      <td>1.512284</td>\n",
       "    </tr>\n",
       "    <tr>\n",
       "      <th>3</th>\n",
       "      <td>ID404262345</td>\n",
       "      <td>2</td>\n",
       "      <td>6969, 7002, 5761</td>\n",
       "      <td>5023, 6412, 6124</td>\n",
       "      <td>3.641681</td>\n",
       "    </tr>\n",
       "    <tr>\n",
       "      <th>4</th>\n",
       "      <td>ID267634255</td>\n",
       "      <td>4</td>\n",
       "      <td>7908, 7585, 7655, 5013, 5352, 7753, 5793</td>\n",
       "      <td>7915, 7884, 7404, 6022, 6589, 6543, 5450, 6848</td>\n",
       "      <td>2.506743</td>\n",
       "    </tr>\n",
       "  </tbody>\n",
       "</table>\n",
       "</div>"
      ],
      "text/plain": [
       "       User ID User Difficulty Choice  \\\n",
       "0  ID790145788                      1   \n",
       "1  ID646234447          Not specified   \n",
       "2   ID86918707                      5   \n",
       "3  ID404262345                      2   \n",
       "4  ID267634255                      4   \n",
       "\n",
       "                     User Read Books (2017)  \\\n",
       "0                                      6254   \n",
       "1                    5854, 5676, 7265, 6051   \n",
       "2                                      5815   \n",
       "3                          6969, 7002, 5761   \n",
       "4  7908, 7585, 7655, 5013, 5352, 7753, 5793   \n",
       "\n",
       "                           User Read Books (2018)  Average Rating (2017)  \n",
       "0                                            7180               3.115447  \n",
       "1                    5729, 5279, 6242, 5519, 5251               3.157876  \n",
       "2                                      6372, 6697               1.512284  \n",
       "3                                5023, 6412, 6124               3.641681  \n",
       "4  7915, 7884, 7404, 6022, 6589, 6543, 5450, 6848               2.506743  "
      ]
     },
     "execution_count": 14,
     "metadata": {},
     "output_type": "execute_result"
    }
   ],
   "source": [
    "user.head()"
   ]
  },
  {
   "cell_type": "markdown",
   "metadata": {},
   "source": [
    "Now we check the shape of the dataframe to see how many users we have data for."
   ]
  },
  {
   "cell_type": "code",
   "execution_count": 23,
   "metadata": {},
   "outputs": [
    {
     "data": {
      "text/plain": [
       "(10000, 5)"
      ]
     },
     "execution_count": 23,
     "metadata": {},
     "output_type": "execute_result"
    }
   ],
   "source": [
    "user.shape"
   ]
  },
  {
   "cell_type": "markdown",
   "metadata": {},
   "source": [
    "So we know that we have data for 10000 users."
   ]
  },
  {
   "cell_type": "markdown",
   "metadata": {},
   "source": [
    "Now I will check the range of values that 'User Difficulty Choice' variable can take:"
   ]
  },
  {
   "cell_type": "code",
   "execution_count": 15,
   "metadata": {},
   "outputs": [
    {
     "data": {
      "text/plain": [
       "Not specified    1936\n",
       "1                1653\n",
       "3                1637\n",
       "5                1601\n",
       "2                1601\n",
       "4                1572\n",
       "Name: User Difficulty Choice, dtype: int64"
      ]
     },
     "execution_count": 15,
     "metadata": {},
     "output_type": "execute_result"
    }
   ],
   "source": [
    "# checking input values of 'User Difficulty Choice'\n",
    "user['User Difficulty Choice'].value_counts(dropna=False)"
   ]
  },
  {
   "cell_type": "markdown",
   "metadata": {},
   "source": [
    "In this dataset, the columns represent the following:\n",
    "\n",
    "1) User ID - unique ID \n",
    "\n",
    "2) User Difficulty Choice - difficulty level of books that this specific user enjoys reading (it goes from 1-4)\n",
    "\n",
    "3) User Read Books (2017) - list of books that each user read in 2017 (each book is represented by a number which is the book ID) \n",
    "\n",
    "4) User Read Books (2018) - list of books ID that each user inted to read in 2018\n",
    "\n",
    "5) Average Rating (2017)- Average rating for all books read by the user in 2017"
   ]
  },
  {
   "cell_type": "code",
   "execution_count": 16,
   "metadata": {
    "collapsed": true
   },
   "outputs": [],
   "source": [
    "# assigning 'Average Rating (2017)' to be the response variable\n",
    "y = user['Average Rating (2017)']"
   ]
  },
  {
   "cell_type": "markdown",
   "metadata": {},
   "source": [
    "Since the 'User Read Books (2017)' column stores many different books for each user, we need to split the list of books for each user into different columns so that each book ID will have its own column."
   ]
  },
  {
   "cell_type": "code",
   "execution_count": 21,
   "metadata": {
    "collapsed": true
   },
   "outputs": [],
   "source": [
    "books2017 = user['User Read Books (2017)']\n",
    "\n",
    "# splitting the books ID for each user in a list\n",
    "splits2017 = books2017.str.split(', ')\n",
    "\n",
    "# number of books that each user read in 2017 \n",
    "n2017 = splits2017.str.len()"
   ]
  },
  {
   "cell_type": "markdown",
   "metadata": {},
   "source": [
    "In order to calculate the average of book ratings, we need to sum up all the books rating for a given user and divide it by the number of books that this person read:\n",
    "\n",
    "$\\frac{\\sum{book_i}}{n}$\n",
    "\n",
    "So we do:\n",
    "\n",
    "$\\frac{\\sum{book_i}}{n}n$\n",
    "\n",
    "to get the sum of of the books rating that the user read."
   ]
  },
  {
   "cell_type": "code",
   "execution_count": 22,
   "metadata": {
    "collapsed": true
   },
   "outputs": [],
   "source": [
    "# sum of books rating for each user\n",
    "Y = y*n2017"
   ]
  },
  {
   "cell_type": "markdown",
   "metadata": {},
   "source": [
    "Now, create a column for each book and we assign 1 if the given user has read this book or 0 if he has not. \n",
    "\n",
    "Then we will run a linear regression on the following way:\n",
    "\n",
    "$Y_{user1} = \\beta_{0}x_{user1} + \\beta_{book1}x_{user1} + ... + \\beta_{lastbook}x_{user1}$\n",
    "\n",
    ".\n",
    "\n",
    ".\n",
    "\n",
    ".\n",
    "\n",
    "$Y_{user10000} = \\beta_{0}x_{user10000} + \\beta_{book1}x_{user10000} + ... + \\beta_{lastbook}x_{user10000}$\n",
    "\n",
    "\n",
    "And after running the linear regression we will get the $\\beta's$ for each book, and hence, we get an approximation of the rating that a random person give for each book.\n",
    "\n",
    "Following, we can just calculate the average booking rates for 2018 for each user by using these books rating that we got."
   ]
  },
  {
   "cell_type": "code",
   "execution_count": 24,
   "metadata": {},
   "outputs": [
    {
     "data": {
      "text/plain": [
       "CountVectorizer(analyzer='word', binary=False, decode_error='strict',\n",
       "        dtype=<class 'numpy.int64'>, encoding='utf-8', input='content',\n",
       "        lowercase=True, max_df=1.0, max_features=None, min_df=1,\n",
       "        ngram_range=(1, 1), preprocessor=None, stop_words=None,\n",
       "        strip_accents=None, token_pattern='(?u)\\\\b\\\\w\\\\w+\\\\b',\n",
       "        tokenizer=None, vocabulary=None)"
      ]
     },
     "execution_count": 24,
     "metadata": {},
     "output_type": "execute_result"
    }
   ],
   "source": [
    "from sklearn.feature_extraction.text import CountVectorizer\n",
    "\n",
    "# we use CountVectorizer to convert the collection of books read in 2017 to a matrix of token counts\n",
    "counter = CountVectorizer()\n",
    "counter"
   ]
  },
  {
   "cell_type": "code",
   "execution_count": 25,
   "metadata": {
    "collapsed": true
   },
   "outputs": [],
   "source": [
    "# we let lowercase=False becase we dont want to let the CountVectorizer to convert all characters to lowercase\n",
    "counter = CountVectorizer(lowercase=False, tokenizer= lambda x: x)"
   ]
  },
  {
   "cell_type": "code",
   "execution_count": 27,
   "metadata": {},
   "outputs": [
    {
     "data": {
      "text/plain": [
       "CountVectorizer(analyzer='word', binary=False, decode_error='strict',\n",
       "        dtype=<class 'numpy.int64'>, encoding='utf-8', input='content',\n",
       "        lowercase=False, max_df=1.0, max_features=None, min_df=1,\n",
       "        ngram_range=(1, 1), preprocessor=None, stop_words=None,\n",
       "        strip_accents=None, token_pattern='(?u)\\\\b\\\\w\\\\w+\\\\b',\n",
       "        tokenizer=<function <lambda> at 0x11846ed90>, vocabulary=None)"
      ]
     },
     "execution_count": 27,
     "metadata": {},
     "output_type": "execute_result"
    }
   ],
   "source": [
    "# Learn a vocabulary dictionary of all tokens in the raw documents\n",
    "counter.fit(splits2017)"
   ]
  },
  {
   "cell_type": "code",
   "execution_count": 33,
   "metadata": {},
   "outputs": [],
   "source": [
    "#Learn the vocabulary dictionary and return term-document matrix\n",
    "# we use .todense() to indicate that we want most of the values on the matrix to be non-zero\n",
    "bagwords2017 = counter.transform(splits2017).todense()"
   ]
  },
  {
   "cell_type": "markdown",
   "metadata": {},
   "source": [
    "Now we check how many books there are by looking at how many columns of different tokens were created:"
   ]
  },
  {
   "cell_type": "code",
   "execution_count": 31,
   "metadata": {},
   "outputs": [
    {
     "data": {
      "text/plain": [
       "(10000, 3000)"
      ]
     },
     "execution_count": 31,
     "metadata": {},
     "output_type": "execute_result"
    }
   ],
   "source": [
    "bagwords2017.shape"
   ]
  },
  {
   "cell_type": "markdown",
   "metadata": {},
   "source": [
    "From that we see that there are 3000 different books."
   ]
  },
  {
   "cell_type": "code",
   "execution_count": 32,
   "metadata": {
    "collapsed": true
   },
   "outputs": [],
   "source": [
    "from scipy.sparse import csr_matrix"
   ]
  },
  {
   "cell_type": "markdown",
   "metadata": {},
   "source": [
    "We will create a sparse matrix from the bag of words matrix. It will reduce memory usage since it compacts the matrix\n",
    "with mostly zero entries."
   ]
  },
  {
   "cell_type": "code",
   "execution_count": 35,
   "metadata": {},
   "outputs": [
    {
     "data": {
      "text/plain": [
       "<10000x3000 sparse matrix of type '<class 'numpy.int64'>'\n",
       "\twith 25919 stored elements in Compressed Sparse Row format>"
      ]
     },
     "execution_count": 35,
     "metadata": {},
     "output_type": "execute_result"
    }
   ],
   "source": [
    "#create a sparse matrix\n",
    "csr_matrix(bagwords2017)"
   ]
  },
  {
   "cell_type": "code",
   "execution_count": 36,
   "metadata": {
    "collapsed": true
   },
   "outputs": [],
   "source": [
    "X = csr_matrix(bagwords2017)"
   ]
  },
  {
   "cell_type": "code",
   "execution_count": 37,
   "metadata": {},
   "outputs": [
    {
     "data": {
      "text/plain": [
       "LinearRegression(copy_X=True, fit_intercept=True, n_jobs=1, normalize=False)"
      ]
     },
     "execution_count": 37,
     "metadata": {},
     "output_type": "execute_result"
    }
   ],
   "source": [
    "from sklearn.linear_model import LinearRegression\n",
    "\n",
    "# creating a linear regression\n",
    "model = LinearRegression()\n",
    "\n",
    "# fitting the linear regression where \n",
    "model.fit(X, Y)"
   ]
  },
  {
   "cell_type": "markdown",
   "metadata": {},
   "source": [
    "Now we want to check how good our model for prediction was, so we predict from the model that we created\n",
    "then we plot to see the relationship:"
   ]
  },
  {
   "cell_type": "code",
   "execution_count": 38,
   "metadata": {
    "collapsed": true
   },
   "outputs": [],
   "source": [
    "# predicting from the model\n",
    "preds = model.predict(bagwords2017)"
   ]
  },
  {
   "cell_type": "markdown",
   "metadata": {},
   "source": [
    "Now we plot to see the results:"
   ]
  },
  {
   "cell_type": "code",
   "execution_count": 39,
   "metadata": {},
   "outputs": [
    {
     "data": {
      "text/plain": [
       "<matplotlib.collections.PathCollection at 0x11aaed908>"
      ]
     },
     "execution_count": 39,
     "metadata": {},
     "output_type": "execute_result"
    },
    {
     "data": {
      "image/png": "[encoded data removed]",
      "text/plain": [
       "<matplotlib.figure.Figure at 0x118a39780>"
      ]
     },
     "metadata": {},
     "output_type": "display_data"
    }
   ],
   "source": [
    "plt.scatter(preds, Y)"
   ]
  },
  {
   "cell_type": "markdown",
   "metadata": {},
   "source": [
    "From the plot we can see that this prediction is not good, since the range for predicted values is very large.\n",
    "\n",
    "Now we add a new column for each user bias which will be Identity matrix "
   ]
  },
  {
   "cell_type": "code",
   "execution_count": 40,
   "metadata": {
    "collapsed": true
   },
   "outputs": [],
   "source": [
    "X = np.hstack((\n",
    "    bagwords2017,\n",
    "    np.eye(len(user))\n",
    "))"
   ]
  },
  {
   "cell_type": "code",
   "execution_count": 41,
   "metadata": {
    "collapsed": true
   },
   "outputs": [],
   "source": [
    "from scipy.sparse import csr_matrix\n",
    "\n",
    "# creating a new sparse matrix from the matrix X with the user bias term added\n",
    "newX = csr_matrix(X)"
   ]
  },
  {
   "cell_type": "markdown",
   "metadata": {},
   "source": [
    "And then we predict and plot to see if we get better results:"
   ]
  },
  {
   "cell_type": "code",
   "execution_count": 43,
   "metadata": {},
   "outputs": [],
   "source": [
    "# fitting the model\n",
    "model.fit(newX, Y)\n",
    "\n",
    "# predicting values from the model\n",
    "preds = model.predict(newX)"
   ]
  },
  {
   "cell_type": "markdown",
   "metadata": {},
   "source": [
    "Now the we fitted the model again, we plot the results:"
   ]
  },
  {
   "cell_type": "code",
   "execution_count": 45,
   "metadata": {},
   "outputs": [
    {
     "data": {
      "text/plain": [
       "<matplotlib.collections.PathCollection at 0x11ac09a58>"
      ]
     },
     "execution_count": 45,
     "metadata": {},
     "output_type": "execute_result"
    },
    {
     "data": {
      "image/png": "[encoded data removed]",
      "text/plain": [
       "<matplotlib.figure.Figure at 0x11ab6fd68>"
      ]
     },
     "metadata": {},
     "output_type": "display_data"
    }
   ],
   "source": [
    "# plotting the predictive model\n",
    "plt.scatter(preds, Y)"
   ]
  },
  {
   "cell_type": "markdown",
   "metadata": {},
   "source": [
    "The plot shows a straight line because we have added the user bias. So the predictive model works as expected since it is more accurate."
   ]
  },
  {
   "cell_type": "markdown",
   "metadata": {},
   "source": [
    "Now we want to do the same thing for 'User Read Books (2018)' and we will use the predictive model that we created for 2017 to predict the average ratings for 2018.\n",
    "\n",
    "Then we will use the following formula to calculate the average rating for 2018:\n",
    "\n",
    "$\\frac{\\sum{ratings_{2017}} + \\sum{ratings_{2018}}}{total}$\n",
    "\n",
    "where total = number of books read in 2017 + number of books read in 2018\n",
    "\n",
    "We already have the the $\\sum{ratings_{2017}}$ which is the Y values calculated before, we also have $n_{books2017}$ and we need to calculate: \n",
    "\n",
    "$\\sum{ratings_{2018}}$ and $n_{books2018}$"
   ]
  },
  {
   "cell_type": "code",
   "execution_count": 47,
   "metadata": {
    "collapsed": true
   },
   "outputs": [],
   "source": [
    "# getting the books read in 2018\n",
    "read2018 = user['User Read Books (2018)'].str.split(', ')\n",
    "\n",
    "# calculating total number of books read in 2018\n",
    "n2018 = read2018.str.len()\n",
    "\n",
    "# calculating total number of books read in 2017 + 2018\n",
    "total = n2017 + n2018\n",
    "\n",
    "# the CountVectorizer was already fit on the books in 2017\n",
    "# so it already counts for all books possible\n",
    "# now we just transform the books read in 2018 in a matrix \n",
    "bag2018 = counter.transform(read2018)\n",
    "\n",
    "\n",
    "# Create the predictors matrix for 2018\n",
    "X2018 = np.hstack((\n",
    "    bag2018.todense(),\n",
    "    np.eye(len(user))\n",
    "))\n"
   ]
  },
  {
   "cell_type": "markdown",
   "metadata": {},
   "source": [
    "Now we calculate the Average Rating (2018) using the formula:\n",
    "\n",
    "\n",
    "$\\frac{\\sum{ratings_{2017}} + \\sum{ratings_{2018}}}{total}$"
   ]
  },
  {
   "cell_type": "code",
   "execution_count": 48,
   "metadata": {
    "collapsed": true
   },
   "outputs": [],
   "source": [
    "AveRating2018 = (model.predict(X2018) + Y)/total"
   ]
  },
  {
   "cell_type": "markdown",
   "metadata": {},
   "source": [
    "Since the ratings goes from 0-10, we adjust the values in the case that we have values above or bellow the range:"
   ]
  },
  {
   "cell_type": "code",
   "execution_count": 49,
   "metadata": {
    "collapsed": true
   },
   "outputs": [],
   "source": [
    "# fixing ratings that are above 10:\n",
    "AveRating2018[AveRating2018 > 10] = 10\n",
    "\n",
    "# fixing ratings that are belllow 0:\n",
    "AveRating2018[AveRating2018 < 0] = 0"
   ]
  },
  {
   "cell_type": "markdown",
   "metadata": {},
   "source": [
    "Hence, we successfully predicted the average rating for books that will be read in 2018 + books read in 2017."
   ]
  },
  {
   "cell_type": "code",
   "execution_count": 51,
   "metadata": {},
   "outputs": [
    {
     "data": {
      "text/html": [
       "<div>\n",
       "<style>\n",
       "    .dataframe thead tr:only-child th {\n",
       "        text-align: right;\n",
       "    }\n",
       "\n",
       "    .dataframe thead th {\n",
       "        text-align: left;\n",
       "    }\n",
       "\n",
       "    .dataframe tbody tr th {\n",
       "        vertical-align: top;\n",
       "    }\n",
       "</style>\n",
       "<table border=\"1\" class=\"dataframe\">\n",
       "  <thead>\n",
       "    <tr style=\"text-align: right;\">\n",
       "      <th></th>\n",
       "      <th>Average Rating (2018)</th>\n",
       "      <th>User ID</th>\n",
       "    </tr>\n",
       "  </thead>\n",
       "  <tbody>\n",
       "    <tr>\n",
       "      <th>0</th>\n",
       "      <td>6.995856</td>\n",
       "      <td>ID790145788</td>\n",
       "    </tr>\n",
       "    <tr>\n",
       "      <th>1</th>\n",
       "      <td>2.116328</td>\n",
       "      <td>ID646234447</td>\n",
       "    </tr>\n",
       "    <tr>\n",
       "      <th>2</th>\n",
       "      <td>0.898206</td>\n",
       "      <td>ID86918707</td>\n",
       "    </tr>\n",
       "    <tr>\n",
       "      <th>3</th>\n",
       "      <td>4.183304</td>\n",
       "      <td>ID404262345</td>\n",
       "    </tr>\n",
       "    <tr>\n",
       "      <th>4</th>\n",
       "      <td>2.266645</td>\n",
       "      <td>ID267634255</td>\n",
       "    </tr>\n",
       "    <tr>\n",
       "      <th>5</th>\n",
       "      <td>0.927302</td>\n",
       "      <td>ID424329114</td>\n",
       "    </tr>\n",
       "    <tr>\n",
       "      <th>6</th>\n",
       "      <td>4.091489</td>\n",
       "      <td>ID83021177</td>\n",
       "    </tr>\n",
       "    <tr>\n",
       "      <th>7</th>\n",
       "      <td>4.019662</td>\n",
       "      <td>ID852246012</td>\n",
       "    </tr>\n",
       "    <tr>\n",
       "      <th>8</th>\n",
       "      <td>5.495309</td>\n",
       "      <td>ID433102103</td>\n",
       "    </tr>\n",
       "    <tr>\n",
       "      <th>9</th>\n",
       "      <td>5.196134</td>\n",
       "      <td>ID119279621</td>\n",
       "    </tr>\n",
       "    <tr>\n",
       "      <th>10</th>\n",
       "      <td>4.506347</td>\n",
       "      <td>ID245262879</td>\n",
       "    </tr>\n",
       "    <tr>\n",
       "      <th>11</th>\n",
       "      <td>0.907156</td>\n",
       "      <td>ID404565396</td>\n",
       "    </tr>\n",
       "    <tr>\n",
       "      <th>12</th>\n",
       "      <td>3.844388</td>\n",
       "      <td>ID133306364</td>\n",
       "    </tr>\n",
       "    <tr>\n",
       "      <th>13</th>\n",
       "      <td>3.008709</td>\n",
       "      <td>ID448999244</td>\n",
       "    </tr>\n",
       "    <tr>\n",
       "      <th>14</th>\n",
       "      <td>3.489655</td>\n",
       "      <td>ID796879434</td>\n",
       "    </tr>\n",
       "    <tr>\n",
       "      <th>15</th>\n",
       "      <td>2.910188</td>\n",
       "      <td>ID583235318</td>\n",
       "    </tr>\n",
       "    <tr>\n",
       "      <th>16</th>\n",
       "      <td>5.581855</td>\n",
       "      <td>ID214070377</td>\n",
       "    </tr>\n",
       "    <tr>\n",
       "      <th>17</th>\n",
       "      <td>4.734975</td>\n",
       "      <td>ID995803338</td>\n",
       "    </tr>\n",
       "    <tr>\n",
       "      <th>18</th>\n",
       "      <td>4.061910</td>\n",
       "      <td>ID726770277</td>\n",
       "    </tr>\n",
       "    <tr>\n",
       "      <th>19</th>\n",
       "      <td>3.278049</td>\n",
       "      <td>ID626001956</td>\n",
       "    </tr>\n",
       "    <tr>\n",
       "      <th>20</th>\n",
       "      <td>2.956087</td>\n",
       "      <td>ID22168844</td>\n",
       "    </tr>\n",
       "    <tr>\n",
       "      <th>21</th>\n",
       "      <td>4.255098</td>\n",
       "      <td>ID515097308</td>\n",
       "    </tr>\n",
       "    <tr>\n",
       "      <th>22</th>\n",
       "      <td>1.620891</td>\n",
       "      <td>ID754464922</td>\n",
       "    </tr>\n",
       "    <tr>\n",
       "      <th>23</th>\n",
       "      <td>1.925928</td>\n",
       "      <td>ID639245964</td>\n",
       "    </tr>\n",
       "    <tr>\n",
       "      <th>24</th>\n",
       "      <td>0.827055</td>\n",
       "      <td>ID125587121</td>\n",
       "    </tr>\n",
       "    <tr>\n",
       "      <th>25</th>\n",
       "      <td>6.201714</td>\n",
       "      <td>ID495700605</td>\n",
       "    </tr>\n",
       "    <tr>\n",
       "      <th>26</th>\n",
       "      <td>4.458706</td>\n",
       "      <td>ID287812081</td>\n",
       "    </tr>\n",
       "    <tr>\n",
       "      <th>27</th>\n",
       "      <td>3.072876</td>\n",
       "      <td>ID871640606</td>\n",
       "    </tr>\n",
       "    <tr>\n",
       "      <th>28</th>\n",
       "      <td>4.338620</td>\n",
       "      <td>ID705726027</td>\n",
       "    </tr>\n",
       "    <tr>\n",
       "      <th>29</th>\n",
       "      <td>0.850891</td>\n",
       "      <td>ID896392883</td>\n",
       "    </tr>\n",
       "    <tr>\n",
       "      <th>...</th>\n",
       "      <td>...</td>\n",
       "      <td>...</td>\n",
       "    </tr>\n",
       "    <tr>\n",
       "      <th>9970</th>\n",
       "      <td>2.997429</td>\n",
       "      <td>ID456851382</td>\n",
       "    </tr>\n",
       "    <tr>\n",
       "      <th>9971</th>\n",
       "      <td>4.380322</td>\n",
       "      <td>ID599983656</td>\n",
       "    </tr>\n",
       "    <tr>\n",
       "      <th>9972</th>\n",
       "      <td>2.906841</td>\n",
       "      <td>ID837677059</td>\n",
       "    </tr>\n",
       "    <tr>\n",
       "      <th>9973</th>\n",
       "      <td>1.975496</td>\n",
       "      <td>ID24569089</td>\n",
       "    </tr>\n",
       "    <tr>\n",
       "      <th>9974</th>\n",
       "      <td>1.832484</td>\n",
       "      <td>ID783282136</td>\n",
       "    </tr>\n",
       "    <tr>\n",
       "      <th>9975</th>\n",
       "      <td>2.407404</td>\n",
       "      <td>ID836346254</td>\n",
       "    </tr>\n",
       "    <tr>\n",
       "      <th>9976</th>\n",
       "      <td>1.988379</td>\n",
       "      <td>ID820764192</td>\n",
       "    </tr>\n",
       "    <tr>\n",
       "      <th>9977</th>\n",
       "      <td>4.623705</td>\n",
       "      <td>ID704459800</td>\n",
       "    </tr>\n",
       "    <tr>\n",
       "      <th>9978</th>\n",
       "      <td>5.000861</td>\n",
       "      <td>ID630413989</td>\n",
       "    </tr>\n",
       "    <tr>\n",
       "      <th>9979</th>\n",
       "      <td>3.950280</td>\n",
       "      <td>ID90320100</td>\n",
       "    </tr>\n",
       "    <tr>\n",
       "      <th>9980</th>\n",
       "      <td>4.992714</td>\n",
       "      <td>ID374428349</td>\n",
       "    </tr>\n",
       "    <tr>\n",
       "      <th>9981</th>\n",
       "      <td>5.140801</td>\n",
       "      <td>ID15839927</td>\n",
       "    </tr>\n",
       "    <tr>\n",
       "      <th>9982</th>\n",
       "      <td>3.515287</td>\n",
       "      <td>ID967428169</td>\n",
       "    </tr>\n",
       "    <tr>\n",
       "      <th>9983</th>\n",
       "      <td>4.020000</td>\n",
       "      <td>ID814336288</td>\n",
       "    </tr>\n",
       "    <tr>\n",
       "      <th>9984</th>\n",
       "      <td>2.359409</td>\n",
       "      <td>ID963961176</td>\n",
       "    </tr>\n",
       "    <tr>\n",
       "      <th>9985</th>\n",
       "      <td>7.432550</td>\n",
       "      <td>ID104091954</td>\n",
       "    </tr>\n",
       "    <tr>\n",
       "      <th>9986</th>\n",
       "      <td>4.142052</td>\n",
       "      <td>ID385404387</td>\n",
       "    </tr>\n",
       "    <tr>\n",
       "      <th>9987</th>\n",
       "      <td>4.231059</td>\n",
       "      <td>ID461643526</td>\n",
       "    </tr>\n",
       "    <tr>\n",
       "      <th>9988</th>\n",
       "      <td>3.661924</td>\n",
       "      <td>ID31119368</td>\n",
       "    </tr>\n",
       "    <tr>\n",
       "      <th>9989</th>\n",
       "      <td>0.606566</td>\n",
       "      <td>ID536612839</td>\n",
       "    </tr>\n",
       "    <tr>\n",
       "      <th>9990</th>\n",
       "      <td>2.396957</td>\n",
       "      <td>ID819328013</td>\n",
       "    </tr>\n",
       "    <tr>\n",
       "      <th>9991</th>\n",
       "      <td>2.711293</td>\n",
       "      <td>ID537725701</td>\n",
       "    </tr>\n",
       "    <tr>\n",
       "      <th>9992</th>\n",
       "      <td>2.897775</td>\n",
       "      <td>ID202483514</td>\n",
       "    </tr>\n",
       "    <tr>\n",
       "      <th>9993</th>\n",
       "      <td>5.763432</td>\n",
       "      <td>ID540788686</td>\n",
       "    </tr>\n",
       "    <tr>\n",
       "      <th>9994</th>\n",
       "      <td>2.969713</td>\n",
       "      <td>ID453297180</td>\n",
       "    </tr>\n",
       "    <tr>\n",
       "      <th>9995</th>\n",
       "      <td>2.574481</td>\n",
       "      <td>ID403550595</td>\n",
       "    </tr>\n",
       "    <tr>\n",
       "      <th>9996</th>\n",
       "      <td>0.897429</td>\n",
       "      <td>ID782671402</td>\n",
       "    </tr>\n",
       "    <tr>\n",
       "      <th>9997</th>\n",
       "      <td>0.074370</td>\n",
       "      <td>ID820866916</td>\n",
       "    </tr>\n",
       "    <tr>\n",
       "      <th>9998</th>\n",
       "      <td>2.605066</td>\n",
       "      <td>ID195204236</td>\n",
       "    </tr>\n",
       "    <tr>\n",
       "      <th>9999</th>\n",
       "      <td>1.517767</td>\n",
       "      <td>ID257231817</td>\n",
       "    </tr>\n",
       "  </tbody>\n",
       "</table>\n",
       "<p>10000 rows × 2 columns</p>\n",
       "</div>"
      ],
      "text/plain": [
       "      Average Rating (2018)      User ID\n",
       "0                  6.995856  ID790145788\n",
       "1                  2.116328  ID646234447\n",
       "2                  0.898206   ID86918707\n",
       "3                  4.183304  ID404262345\n",
       "4                  2.266645  ID267634255\n",
       "5                  0.927302  ID424329114\n",
       "6                  4.091489   ID83021177\n",
       "7                  4.019662  ID852246012\n",
       "8                  5.495309  ID433102103\n",
       "9                  5.196134  ID119279621\n",
       "10                 4.506347  ID245262879\n",
       "11                 0.907156  ID404565396\n",
       "12                 3.844388  ID133306364\n",
       "13                 3.008709  ID448999244\n",
       "14                 3.489655  ID796879434\n",
       "15                 2.910188  ID583235318\n",
       "16                 5.581855  ID214070377\n",
       "17                 4.734975  ID995803338\n",
       "18                 4.061910  ID726770277\n",
       "19                 3.278049  ID626001956\n",
       "20                 2.956087   ID22168844\n",
       "21                 4.255098  ID515097308\n",
       "22                 1.620891  ID754464922\n",
       "23                 1.925928  ID639245964\n",
       "24                 0.827055  ID125587121\n",
       "25                 6.201714  ID495700605\n",
       "26                 4.458706  ID287812081\n",
       "27                 3.072876  ID871640606\n",
       "28                 4.338620  ID705726027\n",
       "29                 0.850891  ID896392883\n",
       "...                     ...          ...\n",
       "9970               2.997429  ID456851382\n",
       "9971               4.380322  ID599983656\n",
       "9972               2.906841  ID837677059\n",
       "9973               1.975496   ID24569089\n",
       "9974               1.832484  ID783282136\n",
       "9975               2.407404  ID836346254\n",
       "9976               1.988379  ID820764192\n",
       "9977               4.623705  ID704459800\n",
       "9978               5.000861  ID630413989\n",
       "9979               3.950280   ID90320100\n",
       "9980               4.992714  ID374428349\n",
       "9981               5.140801   ID15839927\n",
       "9982               3.515287  ID967428169\n",
       "9983               4.020000  ID814336288\n",
       "9984               2.359409  ID963961176\n",
       "9985               7.432550  ID104091954\n",
       "9986               4.142052  ID385404387\n",
       "9987               4.231059  ID461643526\n",
       "9988               3.661924   ID31119368\n",
       "9989               0.606566  ID536612839\n",
       "9990               2.396957  ID819328013\n",
       "9991               2.711293  ID537725701\n",
       "9992               2.897775  ID202483514\n",
       "9993               5.763432  ID540788686\n",
       "9994               2.969713  ID453297180\n",
       "9995               2.574481  ID403550595\n",
       "9996               0.897429  ID782671402\n",
       "9997               0.074370  ID820866916\n",
       "9998               2.605066  ID195204236\n",
       "9999               1.517767  ID257231817\n",
       "\n",
       "[10000 rows x 2 columns]"
      ]
     },
     "execution_count": 51,
     "metadata": {},
     "output_type": "execute_result"
    }
   ],
   "source": [
    "pd.DataFrame({'Average Rating (2018)':AveRating2018,\n",
    "             'User ID': user['User ID']})\n",
    "\n"
   ]
  },
  {
   "cell_type": "markdown",
   "metadata": {},
   "source": [
    "Credits to Daniel Han-Chen who taught students how to do these predictions on the workshop hosted by UNSW Data Science Society."
   ]
  }
 ],
 "metadata": {
  "kernelspec": {
   "display_name": "Python 3",
   "language": "python",
   "name": "python3"
  },
  "language_info": {
   "codemirror_mode": {
    "name": "ipython",
    "version": 3
   },
   "file_extension": ".py",
   "mimetype": "text/x-python",
   "name": "python",
   "nbconvert_exporter": "python",
   "pygments_lexer": "ipython3",
   "version": "3.6.3"
  }
 },
 "nbformat": 4,
 "nbformat_minor": 2
}
